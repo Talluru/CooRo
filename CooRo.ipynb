{
 "cells": [
  {
   "cell_type": "code",
   "execution_count": 1,
   "id": "2c3a4346",
   "metadata": {},
   "outputs": [],
   "source": [
    "#!pip install pyfirmata\n",
    "\n",
    "\n",
    "import RPi.GPIO as GPIO\n",
    "import pyfirmata\n",
    "\n",
    "GPIO.setmode(GPIO.BCM)\n",
    "board = pyfirmata.ArduinoMega('/dev/ttyACM0')\n",
    "\n",
    "import time"
   ]
  },
  {
   "cell_type": "code",
   "execution_count": null,
   "id": "5f9f0e73",
   "metadata": {},
   "outputs": [],
   "source": [
    "#--------Blinking LED------------------------\n",
    "led_pin = 16\n",
    "GPIO.setup(led_pin, GPIO.OUT)\n",
    "\n",
    "while True:\n",
    "    GPIO.output(led_pin,True)\n",
    "    \n",
    "    time.sleep(0.05)\n",
    "    \n",
    "    GPIO.output(led_pin,False)\n",
    "    \n",
    "    time.sleep(0.05)"
   ]
  },
  {
   "cell_type": "code",
   "execution_count": null,
   "id": "6f3a2e04",
   "metadata": {},
   "outputs": [],
   "source": [
    "# ---------------PWM LED----------------------------\n",
    "pwm_pin = 18\n",
    "GPIO.setup(pwm_pin, GPIO.OUT)\n",
    "\n",
    "pwm = GPIO.PWM(pwm_pin,100)\n",
    "\n",
    "while(True):\n",
    "\n",
    "    for i in range(0,100):\n",
    "        pwm.ChangeDutyCycle(i)\n",
    "        time.sleep(0.01)\n",
    "\n",
    "pwm.ChangeDutyCycle(0)       "
   ]
  },
  {
   "cell_type": "code",
   "execution_count": null,
   "id": "6b396a5f",
   "metadata": {},
   "outputs": [],
   "source": [
    "# ------------- Taking input from a pin------------------------\n",
    "input_pin = 17\n",
    "\n",
    "GPIO.setup(input_pin, GPIO.IN, pull_up_down = GPIO.PUD_UP)\n",
    "\n",
    "while True:\n",
    "    input_val = GPIO.input(input_pin)\n",
    "    print(input_val)\n",
    "    time.sleep(2)"
   ]
  },
  {
   "cell_type": "markdown",
   "id": "37677a43",
   "metadata": {},
   "source": [
    "# -------------- Pyfirmata------------------------"
   ]
  },
  {
   "cell_type": "code",
   "execution_count": 46,
   "id": "71c9345e",
   "metadata": {},
   "outputs": [],
   "source": [
    "ena_pin = 8\n",
    "int1_pin = 40\n",
    "int2_pin = 42\n",
    "\n",
    "board.digital[ena_pin].mode = pyfirmata.PWM\n",
    "\n",
    "\n",
    "# Run in one direction\n",
    "board.digital[ena_pin].write(0.1)\n",
    "board.digital[int1_pin].write(1)\n",
    "board.digital[int2_pin].write(0)\n",
    "\n",
    "time.sleep(5)\n",
    "\n",
    "# Run in other direction\n",
    "board.digital[int1_pin].write(0)\n",
    "board.digital[int2_pin].write(1)\n",
    "\n",
    "# Bring back pins to normal\n",
    "board.digital[ena_pin].write(0)\n",
    "board.digital[int1_pin].write(0)\n",
    "board.digital[int2_pin].write(0)"
   ]
  },
  {
   "cell_type": "code",
   "execution_count": null,
   "id": "900eb932",
   "metadata": {},
   "outputs": [],
   "source": [
    "#------------------"
   ]
  },
  {
   "cell_type": "code",
   "execution_count": 12,
   "id": "57f827b5",
   "metadata": {},
   "outputs": [],
   "source": [
    "#---------- Servo motor control\n",
    "# Orange- PWM, Red-3v, Bronw-Ground\n",
    "\n",
    "# Servo orange wire connected to pin 8 of Arduino MEGA\n",
    "servo1 = board.get_pin('d:8:s')\n",
    "\n",
    "servo1.write(0)\n",
    "\n",
    "#servo1.write(90)\n",
    "#servo1.write(180)"
   ]
  },
  {
   "cell_type": "code",
   "execution_count": null,
   "id": "a1d4484f",
   "metadata": {},
   "outputs": [],
   "source": []
  }
 ],
 "metadata": {
  "kernelspec": {
   "display_name": "Python 3",
   "language": "python",
   "name": "python3"
  },
  "language_info": {
   "codemirror_mode": {
    "name": "ipython",
    "version": 3
   },
   "file_extension": ".py",
   "mimetype": "text/x-python",
   "name": "python",
   "nbconvert_exporter": "python",
   "pygments_lexer": "ipython3",
   "version": "3.9.2"
  }
 },
 "nbformat": 4,
 "nbformat_minor": 5
}
