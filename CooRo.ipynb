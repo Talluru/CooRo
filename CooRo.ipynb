{
 "cells": [
  {
   "cell_type": "code",
   "execution_count": 1,
   "id": "2c3a4346",
   "metadata": {},
   "outputs": [],
   "source": [
    "import RPi.GPIO as GPIO\n",
    "GPIO.setmode(GPIO.BCM)\n",
    "\n",
    "import time"
   ]
  },
  {
   "cell_type": "code",
   "execution_count": 5,
   "id": "9de6378d",
   "metadata": {},
   "outputs": [],
   "source": []
  },
  {
   "cell_type": "code",
   "execution_count": 18,
   "id": "9b3df8ac",
   "metadata": {
    "collapsed": true
   },
   "outputs": [
    {
     "ename": "KeyboardInterrupt",
     "evalue": "",
     "output_type": "error",
     "traceback": [
      "\u001b[0;31m---------------------------------------------------------------------------\u001b[0m",
      "\u001b[0;31mKeyboardInterrupt\u001b[0m                         Traceback (most recent call last)",
      "\u001b[0;32m<ipython-input-18-ae14d774febe>\u001b[0m in \u001b[0;36m<module>\u001b[0;34m\u001b[0m\n\u001b[1;32m      6\u001b[0m     \u001b[0mGPIO\u001b[0m\u001b[0;34m.\u001b[0m\u001b[0moutput\u001b[0m\u001b[0;34m(\u001b[0m\u001b[0mled_pin\u001b[0m\u001b[0;34m,\u001b[0m\u001b[0;32mFalse\u001b[0m\u001b[0;34m)\u001b[0m\u001b[0;34m\u001b[0m\u001b[0;34m\u001b[0m\u001b[0m\n\u001b[1;32m      7\u001b[0m \u001b[0;34m\u001b[0m\u001b[0m\n\u001b[0;32m----> 8\u001b[0;31m     \u001b[0mtime\u001b[0m\u001b[0;34m.\u001b[0m\u001b[0msleep\u001b[0m\u001b[0;34m(\u001b[0m\u001b[0;36m0.05\u001b[0m\u001b[0;34m)\u001b[0m\u001b[0;34m\u001b[0m\u001b[0;34m\u001b[0m\u001b[0m\n\u001b[0m",
      "\u001b[0;31mKeyboardInterrupt\u001b[0m: "
     ]
    }
   ],
   "source": [
    "#--------Blinking LED------------------------\n",
    "led_pin = 16\n",
    "GPIO.setup(led_pin, GPIO.OUT)\n",
    "\n",
    "while True:\n",
    "    GPIO.output(led_pin,True)\n",
    "    \n",
    "    time.sleep(0.05)\n",
    "    \n",
    "    GPIO.output(led_pin,False)\n",
    "    \n",
    "    time.sleep(0.05)"
   ]
  },
  {
   "cell_type": "code",
   "execution_count": null,
   "id": "824fc0e9",
   "metadata": {},
   "outputs": [],
   "source": [
    "# ---------------PWM LED----------------------------\n",
    "pwm_pin = 18\n",
    "GPIO.setup(pwm_pin, GPIO.OUT)\n",
    "\n",
    "pwm = GPIO.PWM(pwm_pin,100)\n",
    "\n",
    "while(True):\n",
    "\n",
    "    for i in range(0,100):\n",
    "        pwm.ChangeDutyCycle(i)\n",
    "        time.sleep(0.01)\n",
    "\n",
    "pwm.ChangeDutyCycle(0)       "
   ]
  },
  {
   "cell_type": "code",
   "execution_count": 36,
   "id": "d907b455",
   "metadata": {},
   "outputs": [],
   "source": [
    "# ------------- Taking input from a pin------------------------\n",
    "input_pin = 17\n",
    "\n",
    "GPIO.setup(input_pin, GPIO.IN, pull_up_down = GPIO.PUD_UP)\n",
    "\n",
    "while True:\n",
    "    input_val = GPIO.input(input_pin)\n",
    "    print(input_val)\n",
    "    time.sleep(2)"
   ]
  },
  {
   "cell_type": "code",
   "execution_count": null,
   "id": "6a136bdf",
   "metadata": {},
   "outputs": [],
   "source": []
  }
 ],
 "metadata": {
  "kernelspec": {
   "display_name": "Python 3",
   "language": "python",
   "name": "python3"
  },
  "language_info": {
   "codemirror_mode": {
    "name": "ipython",
    "version": 3
   },
   "file_extension": ".py",
   "mimetype": "text/x-python",
   "name": "python",
   "nbconvert_exporter": "python",
   "pygments_lexer": "ipython3",
   "version": "3.9.2"
  }
 },
 "nbformat": 4,
 "nbformat_minor": 5
}
